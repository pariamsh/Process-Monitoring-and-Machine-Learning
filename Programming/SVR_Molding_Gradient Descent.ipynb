{
 "cells": [
  {
   "cell_type": "code",
   "execution_count": 159,
   "metadata": {},
   "outputs": [],
   "source": [
    "import numpy as np\n",
    "import pandas as pd\n",
    "from matplotlib import pyplot as plt\n",
    "\n",
    "np.random.seed(1)\n",
    "Gamma = 10"
   ]
  },
  {
   "cell_type": "code",
   "execution_count": 160,
   "metadata": {},
   "outputs": [],
   "source": [
    "#load data\n",
    "data = pd.read_excel('Data\\Molding_Data.xlsx') #using pandas to load the excel file\n",
    "data = data.dropna(axis=0, how='any') #drop nan from the data\n",
    "\n",
    "# prepare variables and target\n",
    "X = data.loc[:,['T_Mold','T_Melt','P_Gate','P_Runner']] #Variables, or using data.iloc[:,2:6]\n",
    "Y = data.loc[:,'Part thickness'] # Target\n",
    "X = X.to_numpy() #conver data frame to numpy array\n",
    "Y = Y.to_numpy()\n",
    "\n",
    "# data normalization, normalization to [0 1] range\n",
    "X_Norm = np.empty_like(X)\n",
    "for i in range(X.shape[1]):\n",
    "   data_ = X[:,i]\n",
    "   X_Norm[:,i] = (data_-np.amin(data_))/(np.amax(data_)-np.amin(data_)) \n",
    "    \n",
    "# normalize Y data\n",
    "Y_Min = np.amin(Y)\n",
    "Y_Max = np.amax(Y)\n",
    "Y_Norm = (Y-Y_Min)/(Y_Max-Y_Min)\n"
   ]
  },
  {
   "cell_type": "code",
   "execution_count": 161,
   "metadata": {
    "scrolled": true
   },
   "outputs": [],
   "source": [
    "# prepare variables and target\n",
    "\n",
    "index = np.arange(len(Y))\n",
    "np.random.shuffle(index) #disorder the original data\n",
    "\n",
    "m = np.ceil(0.7*len(Y)) # 70% for training and 30% for testing\n",
    "m = int(m) #covert float type to int type\n",
    "X_Train = X_Norm[index[:m]]\n",
    "Y_Train = Y_Norm[index[:m]]\n",
    "\n",
    "X_Test = X_Norm[index[m:]]\n",
    "Y_Test = Y_Norm[index[m:]]\n",
    "\n",
    "# kernel transformation\n",
    "import sklearn.metrics.pairwise as pw\n",
    "X_Train_Kernel = pw.rbf_kernel(X_Train, X_Train, gamma = Gamma)\n",
    "X_Test_Kernel = pw.rbf_kernel(X_Test, X_Train, gamma = Gamma)"
   ]
  },
  {
   "cell_type": "code",
   "execution_count": 162,
   "metadata": {},
   "outputs": [],
   "source": [
    "# define loss function, Mean Square Error (MSE) + margin\n",
    "\n",
    "def cost_function(X, Y, B):\n",
    "    J = np.sum((X.dot(B)-Y)**2)/(2*len(Y))+ lamda * B.dot(B)  \n",
    "    return J"
   ]
  },
  {
   "cell_type": "code",
   "execution_count": 163,
   "metadata": {},
   "outputs": [],
   "source": [
    "# create iterative gradient descent training\n",
    "\n",
    "def gradient_descent(X, Y, B, alpha, lamda, iterations):\n",
    "    cost_history = np.zeros(iterations)\n",
    "    \n",
    "    for iteration in range(iterations):\n",
    "        loss = X.dot(B) - Y\n",
    "        gradient = X.T.dot(loss)/len(Y) + 2* lamda *B\n",
    "        B = B - alpha * gradient\n",
    "        cost = cost_function(X, Y, B)\n",
    "        cost_history[iteration] = cost\n",
    "    \n",
    "    return B, cost_history"
   ]
  },
  {
   "cell_type": "code",
   "execution_count": 164,
   "metadata": {},
   "outputs": [
    {
     "data": {
      "text/plain": [
       "[<matplotlib.lines.Line2D at 0x22fa0b5bac8>]"
      ]
     },
     "execution_count": 164,
     "metadata": {},
     "output_type": "execute_result"
    },
    {
     "data": {
      "image/png": "[encoded data removed]",
      "text/plain": [
       "<Figure size 432x288 with 1 Axes>"
      ]
     },
     "metadata": {
      "needs_background": "light"
     },
     "output_type": "display_data"
    }
   ],
   "source": [
    "# training\n",
    "\n",
    "B = np.random.random(X_Train_Kernel.shape[1]) # Initial Coefficients\n",
    "alpha = 0.1 #learning rate\n",
    "iter_ = 1000\n",
    "lamda =  0.01 #1/iter_ #balancing coefficient\n",
    "newB, cost_history = gradient_descent(X_Train_Kernel, Y_Train, B, alpha, lamda, iter_)\n",
    "\n",
    "plt.plot(np.arange(iter_), cost_history)\n"
   ]
  },
  {
   "cell_type": "code",
   "execution_count": 165,
   "metadata": {},
   "outputs": [
    {
     "data": {
      "text/plain": [
       "[<matplotlib.lines.Line2D at 0x22fa0bd5d88>]"
      ]
     },
     "execution_count": 165,
     "metadata": {},
     "output_type": "execute_result"
    },
    {
     "data": {
      "image/png": "[encoded data removed]",
      "text/plain": [
       "<Figure size 432x288 with 1 Axes>"
      ]
     },
     "metadata": {
      "needs_background": "light"
     },
     "output_type": "display_data"
    }
   ],
   "source": [
    "# testing \n",
    "y_predict = X_Test_Kernel.dot(newB)\n",
    "y_predicted = y_predict * (Y_Max - Y_Min) + Y_Min\n",
    "Y_Test = Y_Test * (Y_Max - Y_Min) + Y_Min\n",
    "plt.scatter(y_predicted, Y_Test, c = 'b',marker = 'o')\n",
    "plt.xlim(Y_Min, Y_Max)\n",
    "plt.ylim(Y_Min, Y_Max)\n",
    "plt.plot([Y_Min, Y_Max],[Y_Min, Y_Max],'k-')"
   ]
  },
  {
   "cell_type": "code",
   "execution_count": 166,
   "metadata": {},
   "outputs": [
    {
     "data": {
      "text/plain": [
       "0.9334655887455852"
      ]
     },
     "execution_count": 166,
     "metadata": {},
     "output_type": "execute_result"
    }
   ],
   "source": [
    "# performance evaluation\n",
    "\n",
    "def r2(y_predicted,y):\n",
    " sst = np.sum((y-y.mean())**2)\n",
    " ssr = np.sum((y_predicted-y)**2)\n",
    " r2 = 1-(ssr/sst)\n",
    " return(r2)\n",
    "\n",
    "r2(y_predicted, Y_Test)"
   ]
  }
 ],
 "metadata": {
  "kernelspec": {
   "display_name": "Python 3",
   "language": "python",
   "name": "python3"
  },
  "language_info": {
   "codemirror_mode": {
    "name": "ipython",
    "version": 3
   },
   "file_extension": ".py",
   "mimetype": "text/x-python",
   "name": "python",
   "nbconvert_exporter": "python",
   "pygments_lexer": "ipython3",
   "version": "3.7.4"
  }
 },
 "nbformat": 4,
 "nbformat_minor": 2
}
