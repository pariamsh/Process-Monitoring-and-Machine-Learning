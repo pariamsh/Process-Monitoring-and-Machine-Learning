{
 "cells": [
  {
   "cell_type": "code",
   "execution_count": 68,
   "metadata": {},
   "outputs": [],
   "source": [
    "import numpy as np\n",
    "import pandas as pd\n",
    "from matplotlib import pyplot as plt\n",
    "\n",
    "np.random.seed(1)"
   ]
  },
  {
   "cell_type": "code",
   "execution_count": 69,
   "metadata": {},
   "outputs": [],
   "source": [
    "#load data\n",
    "data = pd.read_excel('Data\\Molding_Data.xlsx') #using pandas to load the excel file\n",
    "data = data.dropna(axis=0, how='any') #drop nan from the data\n",
    "\n",
    "# prepare variables and target\n",
    "X = data.loc[:,['T_Mold','T_Melt','P_Gate','P_Runner']] #Variables, or using data.iloc[:,2:6]\n",
    "Y = data.loc[:,'Part thickness'] # Target\n",
    "X = X.to_numpy() #conver data frame to numpy array\n",
    "Y = Y.to_numpy()\n",
    "\n",
    "# data normalization, normalization to [0 1] range\n",
    "X_Norm = np.empty_like(X)\n",
    "for i in range(X.shape[1]):\n",
    "   data_ = X[:,i]\n",
    "   X_Norm[:,i] = (data_-np.amin(data_))/(np.amax(data_)-np.amin(data_)) \n",
    "    \n",
    "# normalize Y data\n",
    "Y_Min = np.amin(Y)\n",
    "Y_Max = np.amax(Y)\n",
    "Y_Norm = (Y-Y_Min)/(Y_Max-Y_Min)"
   ]
  },
  {
   "cell_type": "code",
   "execution_count": 70,
   "metadata": {
    "scrolled": true
   },
   "outputs": [],
   "source": [
    "# split training and testing data\n",
    "\n",
    "index = np.arange(len(Y_Norm))\n",
    "np.random.shuffle(index) #disorder the original data\n",
    "\n",
    "m = np.ceil(0.7*len(Y)) # 70% for training and 30% for testing\n",
    "m = int(m) #covert float type to int type\n",
    "X_Train = X_Norm[index[:m]]\n",
    "Y_Train = Y_Norm[index[:m]]\n",
    "\n",
    "X_Test = X_Norm[index[m:]]\n",
    "Y_Test = Y_Norm[index[m:]]"
   ]
  },
  {
   "cell_type": "code",
   "execution_count": 71,
   "metadata": {},
   "outputs": [],
   "source": [
    "# performance evaluation\n",
    "\n",
    "def r2(y_predicted,y):\n",
    " sst = np.sum((y-y.mean())**2)\n",
    " ssr = np.sum((y_predicted-y)**2)\n",
    " r2 = 1-(ssr/sst)\n",
    " return(r2)"
   ]
  },
  {
   "cell_type": "code",
   "execution_count": 72,
   "metadata": {
    "scrolled": true
   },
   "outputs": [
    {
     "name": "stdout",
     "output_type": "stream",
     "text": [
      "0.9477975408918157\n"
     ]
    },
    {
     "data": {
      "text/plain": [
       "[<matplotlib.lines.Line2D at 0x15b1b4a2bc8>]"
      ]
     },
     "execution_count": 72,
     "metadata": {},
     "output_type": "execute_result"
    },
    {
     "data": {
      "image/png": "[encoded data removed]",
      "text/plain": [
       "<Figure size 432x288 with 1 Axes>"
      ]
     },
     "metadata": {
      "needs_background": "light"
     },
     "output_type": "display_data"
    }
   ],
   "source": [
    "# Training with Sklearn.svm module\n",
    "\n",
    "from sklearn.svm import SVR\n",
    "\n",
    "svr_rbf = SVR(kernel='rbf', C=0.1, gamma=10)\n",
    "y_predict = svr_rbf.fit(X_Train, Y_Train).predict(X_Test)\n",
    "\n",
    "y_predicted = y_predict*(Y_Max-Y_Min) +  Y_Min\n",
    "Y_Test = Y_Test * (Y_Max-Y_Min) +  Y_Min\n",
    "\n",
    "print(r2(y_predicted, Y_Test))\n",
    "plt.scatter(y_predicted, Y_Test, c = 'b',marker = 'o')\n",
    "plt.xlim(Y_Min, Y_Max)\n",
    "plt.ylim(Y_Min, Y_Max)\n",
    "plt.plot([Y_Min, Y_Max],[Y_Min, Y_Max],'k-')"
   ]
  }
 ],
 "metadata": {
  "kernelspec": {
   "display_name": "Python 3",
   "language": "python",
   "name": "python3"
  },
  "language_info": {
   "codemirror_mode": {
    "name": "ipython",
    "version": 3
   },
   "file_extension": ".py",
   "mimetype": "text/x-python",
   "name": "python",
   "nbconvert_exporter": "python",
   "pygments_lexer": "ipython3",
   "version": "3.7.4"
  }
 },
 "nbformat": 4,
 "nbformat_minor": 2
}
